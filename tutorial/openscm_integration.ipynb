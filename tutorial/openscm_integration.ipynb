{
 "cells": [
  {
   "cell_type": "code",
   "execution_count": 1,
   "metadata": {},
   "outputs": [
    {
     "data": {
      "application/javascript": [
       "IPython.OutputArea.prototype._should_scroll = function(lines) { return false; }"
      ],
      "text/plain": [
       "<IPython.core.display.Javascript object>"
      ]
     },
     "metadata": {},
     "output_type": "display_data"
    }
   ],
   "source": [
    "import pandas as pd\n",
    "\n",
    "import pyam\n",
    "import pymagicc\n",
    "from pymagicc.io import MAGICCData"
   ]
  },
  {
   "cell_type": "code",
   "execution_count": 2,
   "metadata": {},
   "outputs": [],
   "source": [
    "PYAM_DATA_FILE = \"/Users/zebedeenicholls/Documents/AGCEC/Data/iam-scenarios/data/raw/20181023-sr15/iamc15_scenario_data_all_regions_r1.xlsx\"\n",
    "MAGICC_SCEN_FILE = \"/Users/zebedeenicholls/Documents/AGCEC/MCastle/pymagicc/pymagicc/MAGICC6/run/RCP26.SCEN\""
   ]
  },
  {
   "cell_type": "code",
   "execution_count": 5,
   "metadata": {},
   "outputs": [],
   "source": [
    "rcp26 = MAGICCData()\n",
    "rcp26.read(MAGICC_SCEN_FILE)\n",
    "\n",
    "rcp26_pyam = pyam.OpenSCMDataFrame()\n",
    "rcp26_pyam.data = rcp26.df.copy()"
   ]
  },
  {
   "cell_type": "code",
   "execution_count": null,
   "metadata": {},
   "outputs": [],
   "source": []
  },
  {
   "cell_type": "code",
   "execution_count": 6,
   "metadata": {},
   "outputs": [
    {
     "data": {
      "text/html": [
       "<div>\n",
       "<style scoped>\n",
       "    .dataframe tbody tr th:only-of-type {\n",
       "        vertical-align: middle;\n",
       "    }\n",
       "\n",
       "    .dataframe tbody tr th {\n",
       "        vertical-align: top;\n",
       "    }\n",
       "\n",
       "    .dataframe thead th {\n",
       "        text-align: right;\n",
       "    }\n",
       "</style>\n",
       "<table border=\"1\" class=\"dataframe\">\n",
       "  <thead>\n",
       "    <tr style=\"text-align: right;\">\n",
       "      <th></th>\n",
       "      <th>variable</th>\n",
       "      <th>todo</th>\n",
       "      <th>unit</th>\n",
       "      <th>region</th>\n",
       "      <th>time</th>\n",
       "      <th>value</th>\n",
       "    </tr>\n",
       "  </thead>\n",
       "  <tbody>\n",
       "    <tr>\n",
       "      <th>0</th>\n",
       "      <td>Emissions|CO2|MAGICC Fossil and Industrial</td>\n",
       "      <td>SET</td>\n",
       "      <td>Gt C / yr</td>\n",
       "      <td>World|Bunkers</td>\n",
       "      <td>2000</td>\n",
       "      <td>0.0</td>\n",
       "    </tr>\n",
       "    <tr>\n",
       "      <th>1</th>\n",
       "      <td>Emissions|CO2|MAGICC Fossil and Industrial</td>\n",
       "      <td>SET</td>\n",
       "      <td>Gt C / yr</td>\n",
       "      <td>World|Bunkers</td>\n",
       "      <td>2001</td>\n",
       "      <td>0.0</td>\n",
       "    </tr>\n",
       "    <tr>\n",
       "      <th>2</th>\n",
       "      <td>Emissions|CO2|MAGICC Fossil and Industrial</td>\n",
       "      <td>SET</td>\n",
       "      <td>Gt C / yr</td>\n",
       "      <td>World|Bunkers</td>\n",
       "      <td>2002</td>\n",
       "      <td>0.0</td>\n",
       "    </tr>\n",
       "    <tr>\n",
       "      <th>3</th>\n",
       "      <td>Emissions|CO2|MAGICC Fossil and Industrial</td>\n",
       "      <td>SET</td>\n",
       "      <td>Gt C / yr</td>\n",
       "      <td>World|Bunkers</td>\n",
       "      <td>2003</td>\n",
       "      <td>0.0</td>\n",
       "    </tr>\n",
       "    <tr>\n",
       "      <th>4</th>\n",
       "      <td>Emissions|CO2|MAGICC Fossil and Industrial</td>\n",
       "      <td>SET</td>\n",
       "      <td>Gt C / yr</td>\n",
       "      <td>World|Bunkers</td>\n",
       "      <td>2004</td>\n",
       "      <td>0.0</td>\n",
       "    </tr>\n",
       "  </tbody>\n",
       "</table>\n",
       "</div>"
      ],
      "text/plain": [
       "                                     variable todo       unit         region  \\\n",
       "0  Emissions|CO2|MAGICC Fossil and Industrial  SET  Gt C / yr  World|Bunkers   \n",
       "1  Emissions|CO2|MAGICC Fossil and Industrial  SET  Gt C / yr  World|Bunkers   \n",
       "2  Emissions|CO2|MAGICC Fossil and Industrial  SET  Gt C / yr  World|Bunkers   \n",
       "3  Emissions|CO2|MAGICC Fossil and Industrial  SET  Gt C / yr  World|Bunkers   \n",
       "4  Emissions|CO2|MAGICC Fossil and Industrial  SET  Gt C / yr  World|Bunkers   \n",
       "\n",
       "   time  value  \n",
       "0  2000    0.0  \n",
       "1  2001    0.0  \n",
       "2  2002    0.0  \n",
       "3  2003    0.0  \n",
       "4  2004    0.0  "
      ]
     },
     "execution_count": 6,
     "metadata": {},
     "output_type": "execute_result"
    }
   ],
   "source": [
    "rcp26_pyam.head()"
   ]
  },
  {
   "cell_type": "code",
   "execution_count": 7,
   "metadata": {},
   "outputs": [
    {
     "ename": "ConversionError",
     "evalue": "I don't know why, but I can't convert to an IamDataFrame.\nThe original traceback is:\nTraceback (most recent call last):\n  File \"/Users/zebedeenicholls/Documents/AGCEC/Misc/pyam/pyam/core.py\", line 1101, in to_iam_df\n    iam = IamDataFrame(self._get_iam_df())\n  File \"/Users/zebedeenicholls/Documents/AGCEC/Misc/pyam/pyam/core.py\", line 644, in __init__\n    self.data = format_data(data.copy())\n  File \"/Users/zebedeenicholls/Documents/AGCEC/Misc/pyam/pyam/utils.py\", line 183, in format_data\n    raise ValueError(\"missing required columns `{}`!\".format(missing))\nValueError: missing required columns `['model', 'scenario']`!\n",
     "output_type": "error",
     "traceback": [
      "\u001b[0;31m---------------------------------------------------------------------------\u001b[0m",
      "\u001b[0;31mValueError\u001b[0m                                Traceback (most recent call last)",
      "\u001b[0;32m~/Documents/AGCEC/Misc/pyam/pyam/core.py\u001b[0m in \u001b[0;36mto_iam_df\u001b[0;34m(self)\u001b[0m\n\u001b[1;32m   1100\u001b[0m         \u001b[0;32mtry\u001b[0m\u001b[0;34m:\u001b[0m\u001b[0;34m\u001b[0m\u001b[0m\n\u001b[0;32m-> 1101\u001b[0;31m             \u001b[0miam\u001b[0m \u001b[0;34m=\u001b[0m \u001b[0mIamDataFrame\u001b[0m\u001b[0;34m(\u001b[0m\u001b[0mself\u001b[0m\u001b[0;34m.\u001b[0m\u001b[0m_get_iam_df\u001b[0m\u001b[0;34m(\u001b[0m\u001b[0;34m)\u001b[0m\u001b[0;34m)\u001b[0m\u001b[0;34m\u001b[0m\u001b[0m\n\u001b[0m\u001b[1;32m   1102\u001b[0m             \u001b[0miam\u001b[0m\u001b[0;34m.\u001b[0m\u001b[0mmeta\u001b[0m \u001b[0;34m=\u001b[0m \u001b[0mself\u001b[0m\u001b[0;34m.\u001b[0m\u001b[0mmeta\u001b[0m\u001b[0;34m\u001b[0m\u001b[0m\n",
      "\u001b[0;32m~/Documents/AGCEC/Misc/pyam/pyam/core.py\u001b[0m in \u001b[0;36m__init__\u001b[0;34m(self, data, **kwargs)\u001b[0m\n\u001b[1;32m    643\u001b[0m         \u001b[0;32mif\u001b[0m \u001b[0misinstance\u001b[0m\u001b[0;34m(\u001b[0m\u001b[0mdata\u001b[0m\u001b[0;34m,\u001b[0m \u001b[0mpd\u001b[0m\u001b[0;34m.\u001b[0m\u001b[0mDataFrame\u001b[0m\u001b[0;34m)\u001b[0m\u001b[0;34m:\u001b[0m\u001b[0;34m\u001b[0m\u001b[0m\n\u001b[0;32m--> 644\u001b[0;31m             \u001b[0mself\u001b[0m\u001b[0;34m.\u001b[0m\u001b[0mdata\u001b[0m \u001b[0;34m=\u001b[0m \u001b[0mformat_data\u001b[0m\u001b[0;34m(\u001b[0m\u001b[0mdata\u001b[0m\u001b[0;34m.\u001b[0m\u001b[0mcopy\u001b[0m\u001b[0;34m(\u001b[0m\u001b[0;34m)\u001b[0m\u001b[0;34m)\u001b[0m\u001b[0;34m\u001b[0m\u001b[0m\n\u001b[0m\u001b[1;32m    645\u001b[0m         \u001b[0;32melif\u001b[0m \u001b[0mhas_ix\u001b[0m \u001b[0;32mand\u001b[0m \u001b[0misinstance\u001b[0m\u001b[0;34m(\u001b[0m\u001b[0mdata\u001b[0m\u001b[0;34m,\u001b[0m \u001b[0mixmp\u001b[0m\u001b[0;34m.\u001b[0m\u001b[0mTimeSeries\u001b[0m\u001b[0;34m)\u001b[0m\u001b[0;34m:\u001b[0m\u001b[0;34m\u001b[0m\u001b[0m\n",
      "\u001b[0;32m~/Documents/AGCEC/Misc/pyam/pyam/utils.py\u001b[0m in \u001b[0;36mformat_data\u001b[0;34m(df)\u001b[0m\n\u001b[1;32m    182\u001b[0m         \u001b[0mmissing\u001b[0m \u001b[0;34m=\u001b[0m \u001b[0mlist\u001b[0m\u001b[0;34m(\u001b[0m\u001b[0mset\u001b[0m\u001b[0;34m(\u001b[0m\u001b[0mIAMC_IDX\u001b[0m\u001b[0;34m)\u001b[0m \u001b[0;34m-\u001b[0m \u001b[0mset\u001b[0m\u001b[0;34m(\u001b[0m\u001b[0mdf\u001b[0m\u001b[0;34m.\u001b[0m\u001b[0mcolumns\u001b[0m\u001b[0;34m)\u001b[0m\u001b[0;34m)\u001b[0m\u001b[0;34m\u001b[0m\u001b[0m\n\u001b[0;32m--> 183\u001b[0;31m         \u001b[0;32mraise\u001b[0m \u001b[0mValueError\u001b[0m\u001b[0;34m(\u001b[0m\u001b[0;34m\"missing required columns `{}`!\"\u001b[0m\u001b[0;34m.\u001b[0m\u001b[0mformat\u001b[0m\u001b[0;34m(\u001b[0m\u001b[0mmissing\u001b[0m\u001b[0;34m)\u001b[0m\u001b[0;34m)\u001b[0m\u001b[0;34m\u001b[0m\u001b[0m\n\u001b[0m\u001b[1;32m    184\u001b[0m \u001b[0;34m\u001b[0m\u001b[0m\n",
      "\u001b[0;31mValueError\u001b[0m: missing required columns `['model', 'scenario']`!",
      "\nDuring handling of the above exception, another exception occurred:\n",
      "\u001b[0;31mConversionError\u001b[0m                           Traceback (most recent call last)",
      "\u001b[0;32m<ipython-input-7-3adf93876384>\u001b[0m in \u001b[0;36m<module>\u001b[0;34m()\u001b[0m\n\u001b[0;32m----> 1\u001b[0;31m \u001b[0mrcp26_pyam\u001b[0m\u001b[0;34m.\u001b[0m\u001b[0mto_iam_df\u001b[0m\u001b[0;34m(\u001b[0m\u001b[0;34m)\u001b[0m\u001b[0;34m\u001b[0m\u001b[0m\n\u001b[0m",
      "\u001b[0;32m~/Documents/AGCEC/Misc/pyam/pyam/core.py\u001b[0m in \u001b[0;36mto_iam_df\u001b[0;34m(self)\u001b[0m\n\u001b[1;32m   1106\u001b[0m                 \u001b[0;34m\"The original traceback is:\\n{}\"\u001b[0m\u001b[0;34m.\u001b[0m\u001b[0mformat\u001b[0m\u001b[0;34m(\u001b[0m\u001b[0mtraceback\u001b[0m\u001b[0;34m.\u001b[0m\u001b[0mformat_exc\u001b[0m\u001b[0;34m(\u001b[0m\u001b[0;34m)\u001b[0m\u001b[0;34m)\u001b[0m\u001b[0;34m\u001b[0m\u001b[0m\n\u001b[1;32m   1107\u001b[0m             )\n\u001b[0;32m-> 1108\u001b[0;31m             \u001b[0;32mraise\u001b[0m \u001b[0mConversionError\u001b[0m\u001b[0;34m(\u001b[0m\u001b[0mworst_case_msg\u001b[0m\u001b[0;34m)\u001b[0m\u001b[0;34m\u001b[0m\u001b[0m\n\u001b[0m\u001b[1;32m   1109\u001b[0m \u001b[0;34m\u001b[0m\u001b[0m\n\u001b[1;32m   1110\u001b[0m         \u001b[0;32mreturn\u001b[0m \u001b[0miam\u001b[0m\u001b[0;34m\u001b[0m\u001b[0m\n",
      "\u001b[0;31mConversionError\u001b[0m: I don't know why, but I can't convert to an IamDataFrame.\nThe original traceback is:\nTraceback (most recent call last):\n  File \"/Users/zebedeenicholls/Documents/AGCEC/Misc/pyam/pyam/core.py\", line 1101, in to_iam_df\n    iam = IamDataFrame(self._get_iam_df())\n  File \"/Users/zebedeenicholls/Documents/AGCEC/Misc/pyam/pyam/core.py\", line 644, in __init__\n    self.data = format_data(data.copy())\n  File \"/Users/zebedeenicholls/Documents/AGCEC/Misc/pyam/pyam/utils.py\", line 183, in format_data\n    raise ValueError(\"missing required columns `{}`!\".format(missing))\nValueError: missing required columns `['model', 'scenario']`!\n"
     ]
    }
   ],
   "source": [
    "rcp26_pyam.to_iam_df()"
   ]
  },
  {
   "cell_type": "code",
   "execution_count": null,
   "metadata": {},
   "outputs": [],
   "source": []
  }
 ],
 "metadata": {
  "kernelspec": {
   "display_name": "Python 3",
   "language": "python",
   "name": "python3"
  },
  "language_info": {
   "codemirror_mode": {
    "name": "ipython",
    "version": 3
   },
   "file_extension": ".py",
   "mimetype": "text/x-python",
   "name": "python",
   "nbconvert_exporter": "python",
   "pygments_lexer": "ipython3",
   "version": "3.6.6"
  }
 },
 "nbformat": 4,
 "nbformat_minor": 2
}
